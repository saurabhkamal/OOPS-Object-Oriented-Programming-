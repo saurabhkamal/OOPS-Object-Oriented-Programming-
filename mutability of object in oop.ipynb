{
 "cells": [
  {
   "cell_type": "markdown",
   "id": "f0fab4e3",
   "metadata": {},
   "source": [
    "## Mutability of Object in Python"
   ]
  },
  {
   "cell_type": "code",
   "execution_count": 1,
   "id": "de48ad8d",
   "metadata": {},
   "outputs": [],
   "source": [
    "class Person:\n",
    "\n",
    "    def __init__(self, name, gender):\n",
    "        self.name = name\n",
    "        self.gender = gender\n",
    "\n",
    "\n",
    "# outside of class\n",
    "def greeting(person):\n",
    "    person.name = \"Alex\"\n",
    "    return person"
   ]
  },
  {
   "cell_type": "code",
   "execution_count": 2,
   "id": "79d10d3d",
   "metadata": {},
   "outputs": [],
   "source": [
    "p = Person(\"Saurabh\", \"Male\")"
   ]
  },
  {
   "cell_type": "code",
   "execution_count": 3,
   "id": "90c4b798",
   "metadata": {},
   "outputs": [
    {
     "name": "stdout",
     "output_type": "stream",
     "text": [
      "2553904232688\n"
     ]
    }
   ],
   "source": [
    "print(id(p))"
   ]
  },
  {
   "cell_type": "code",
   "execution_count": 4,
   "id": "72174d37",
   "metadata": {},
   "outputs": [],
   "source": [
    "a = greeting(p)"
   ]
  },
  {
   "cell_type": "code",
   "execution_count": 5,
   "id": "2fb6a621",
   "metadata": {},
   "outputs": [
    {
     "data": {
      "text/plain": [
       "'Alex'"
      ]
     },
     "execution_count": 5,
     "metadata": {},
     "output_type": "execute_result"
    }
   ],
   "source": [
    "a.name"
   ]
  },
  {
   "cell_type": "code",
   "execution_count": 6,
   "id": "2ba397df",
   "metadata": {},
   "outputs": [
    {
     "data": {
      "text/plain": [
       "'Alex'"
      ]
     },
     "execution_count": 6,
     "metadata": {},
     "output_type": "execute_result"
    }
   ],
   "source": [
    "p.name"
   ]
  },
  {
   "cell_type": "markdown",
   "id": "dc86792e",
   "metadata": {},
   "source": [
    "Because it is referring in the same memory location because if you change in this one object, it will reflect in all the objects"
   ]
  },
  {
   "cell_type": "code",
   "execution_count": 7,
   "id": "6cedd448",
   "metadata": {},
   "outputs": [
    {
     "name": "stdout",
     "output_type": "stream",
     "text": [
      "2553904232688\n"
     ]
    }
   ],
   "source": [
    "print(id(a))"
   ]
  },
  {
   "cell_type": "markdown",
   "id": "630a879d",
   "metadata": {},
   "source": [
    "Question to be asked by the recruiter:\n",
    "\n",
    "The class you are defining, whether it is mutable or immutable?\n",
    "- Ans: It is mutable one."
   ]
  },
  {
   "cell_type": "code",
   "execution_count": 1,
   "id": "4e823263",
   "metadata": {},
   "outputs": [],
   "source": [
    "class Person:\n",
    "\n",
    "    def __init__(self, name, gender):\n",
    "        self.name = name\n",
    "        self.gender = gender\n",
    "\n",
    "\n",
    "# outside of class\n",
    "def greeting(person):\n",
    "    return person"
   ]
  },
  {
   "cell_type": "code",
   "execution_count": 2,
   "id": "c33297c5",
   "metadata": {},
   "outputs": [],
   "source": [
    "p = Person(\"Saurabh\", \"Male\")"
   ]
  },
  {
   "cell_type": "code",
   "execution_count": 3,
   "id": "f563800f",
   "metadata": {},
   "outputs": [],
   "source": [
    "a = greeting(p)"
   ]
  },
  {
   "cell_type": "code",
   "execution_count": 4,
   "id": "94a04832",
   "metadata": {},
   "outputs": [
    {
     "data": {
      "text/plain": [
       "'Saurabh'"
      ]
     },
     "execution_count": 4,
     "metadata": {},
     "output_type": "execute_result"
    }
   ],
   "source": [
    "a.name"
   ]
  },
  {
   "cell_type": "code",
   "execution_count": 5,
   "id": "38750ea8",
   "metadata": {},
   "outputs": [
    {
     "data": {
      "text/plain": [
       "'Male'"
      ]
     },
     "execution_count": 5,
     "metadata": {},
     "output_type": "execute_result"
    }
   ],
   "source": [
    "a.gender"
   ]
  },
  {
   "cell_type": "code",
   "execution_count": null,
   "id": "0a0a3b3d",
   "metadata": {},
   "outputs": [],
   "source": []
  }
 ],
 "metadata": {
  "kernelspec": {
   "display_name": "base",
   "language": "python",
   "name": "python3"
  },
  "language_info": {
   "codemirror_mode": {
    "name": "ipython",
    "version": 3
   },
   "file_extension": ".py",
   "mimetype": "text/x-python",
   "name": "python",
   "nbconvert_exporter": "python",
   "pygments_lexer": "ipython3",
   "version": "3.12.3"
  }
 },
 "nbformat": 4,
 "nbformat_minor": 5
}
