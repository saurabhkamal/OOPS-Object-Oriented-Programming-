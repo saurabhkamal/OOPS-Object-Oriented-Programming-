{
 "cells": [
  {
   "cell_type": "markdown",
   "id": "122dad00",
   "metadata": {},
   "source": [
    "## Concept of Self in OOPs\n",
    "\n",
    "self is the object of ATMmachine. Wherever your ATMmachine is present, it is locating in the same memory location.\n",
    "\n",
    "Whatever changes you will do in the ATM machine class everything will reflect inside the self as well.\n",
    "\n",
    "self will tell this menu is the property of the ATM machine class"
   ]
  },
  {
   "cell_type": "code",
   "execution_count": 1,
   "id": "55224edd",
   "metadata": {},
   "outputs": [],
   "source": [
    "class AtmMachine:\n",
    "    # Constructor (special function) -> superpowers\n",
    "    def __init__(self):\n",
    "        print(id(self))\n",
    "        self.pin = \"\"\n",
    "        self.balance = 0\n",
    "        # self.menu()\n",
    "\n",
    "    # methods ==> Identifying a method by a self keyword (inside a class how to mention different different functions), but it should be called as a method  \n",
    "    def menu(self):\n",
    "        user_input = input(\n",
    "            \"\"\"\n",
    "            Hi how can i help you?\n",
    "\n",
    "            1. Press 1 to create pin\n",
    "            2. Press 2 to change pin\n",
    "            3. Press 3 to check balence\n",
    "            4. Press 4 to withdraw\n",
    "            5. Anything to exit\n",
    "            \"\"\"\n",
    "        )\n",
    "\n",
    "        if user_input == \"1\":\n",
    "            #create a pin\n",
    "            self.create_pin()\n",
    "\n",
    "        elif user_input == \"2\":\n",
    "            # change pin\n",
    "            self.change_pin()\n",
    "\n",
    "        elif user_input == \"3\":\n",
    "            #check balance\n",
    "            self.check_balance()\n",
    "\n",
    "        elif user_input == \"4\":\n",
    "            # withdraw\n",
    "            self.withdraw_balance()\n",
    "        \n",
    "        else:\n",
    "            exit()\n",
    "\n",
    "    \n",
    "    def create_pin(self):\n",
    "        user_pin = input(\"Enter your pin: \")\n",
    "        self.pin = user_pin\n",
    "\n",
    "        user_balance = int(input(\"Enter Balance: \"))\n",
    "        self.balance = user_balance\n",
    "\n",
    "        print(\"Pin Created Successfully!\")\n",
    "        self.menu()\n",
    "\n",
    "    \n",
    "    def change_pin(self):\n",
    "        old_pin = input(\"Enter your old pin: \")\n",
    "\n",
    "        if old_pin == self.pin:\n",
    "            new_pin = input(\"Enter new pin: \")\n",
    "            self.pin = new_pin\n",
    "            print(\"Pin changed successfully!\")\n",
    "            self.menu()\n",
    "        else:\n",
    "            print(\"Invalid Pin!\")\n",
    "            self.menu()\n",
    "\n",
    "    \n",
    "    def check_balance(self):\n",
    "        user_pin = input(\"Enter your pin: \")\n",
    "        if user_pin == self.pin:\n",
    "            print(f\"Your balance is {self.balance}\")\n",
    "\n",
    "        else:\n",
    "            print(\"Your pin is incorrect, please try again\")\n",
    "        self.menu()\n",
    "\n",
    "    def withdraw_balance(self):\n",
    "        user_pin = input(\"Enter your pin: \")\n",
    "        if user_pin == self.pin:\n",
    "            # allow to withdraw\n",
    "            amount = int(input(\"Enter the amount: \"))\n",
    "            if amount <= self.balance:\n",
    "                self.balance = self.balance - amount\n",
    "                print(f\"You have withdrawn {amount}. Your new balance is {self.balance}\")\n",
    "\n",
    "            else:\n",
    "                print(\"Insufficient balance!\")\n",
    "            \n",
    "        else:\n",
    "            print(\"Your pin is incorrect, please try again\")\n",
    "        self.menu()"
   ]
  },
  {
   "cell_type": "code",
   "execution_count": 2,
   "id": "74147b93",
   "metadata": {},
   "outputs": [
    {
     "name": "stdout",
     "output_type": "stream",
     "text": [
      "2552436858640\n"
     ]
    }
   ],
   "source": [
    "obj = AtmMachine()"
   ]
  },
  {
   "cell_type": "code",
   "execution_count": 3,
   "id": "28726589",
   "metadata": {},
   "outputs": [
    {
     "data": {
      "text/plain": [
       "2552436858640"
      ]
     },
     "execution_count": 3,
     "metadata": {},
     "output_type": "execute_result"
    }
   ],
   "source": [
    "id(obj)"
   ]
  },
  {
   "cell_type": "markdown",
   "id": "bf20bd0e",
   "metadata": {},
   "source": [
    "Self is a reference to the current instance of the class. It is used as the first parameter in instance methods so you can access or modify the attributes and methods of that particular instance.\n",
    "\n",
    "In short, it is a way for object methods to refer to the object itself. This lets you store and manipulate data that is particular to each instance of a class.\n",
    "\n",
    "- It connects the data (attributes) and behaviours (methods) to the specific object\n",
    "- It allows you to create multiple independent objects from the same class, each with its own state."
   ]
  },
  {
   "cell_type": "code",
   "execution_count": 1,
   "id": "d70b5b82",
   "metadata": {},
   "outputs": [
    {
     "name": "stdout",
     "output_type": "stream",
     "text": [
      "This car is a red Honda\n",
      "This car is a blue Toyota\n"
     ]
    }
   ],
   "source": [
    "class Car:\n",
    "    def __init__(self, brand, color):\n",
    "        self.brand = brand  # 'self.brand' is an instance variable\n",
    "        self.color = color\n",
    "\n",
    "    def show_info(self):\n",
    "        print(f\"This car is a {self.color} {self.brand}\")\n",
    "\n",
    "# Creating two objects\n",
    "car1 = Car(\"Honda\", \"red\")\n",
    "car2 = Car(\"Toyota\", \"blue\")\n",
    "\n",
    "car1.show_info()\n",
    "car2.show_info()"
   ]
  },
  {
   "cell_type": "markdown",
   "id": "06135508",
   "metadata": {},
   "source": [
    "Without self, Python wouldn't know which object's data to use or modify."
   ]
  },
  {
   "cell_type": "code",
   "execution_count": null,
   "id": "61fd2020",
   "metadata": {},
   "outputs": [],
   "source": []
  }
 ],
 "metadata": {
  "kernelspec": {
   "display_name": "base",
   "language": "python",
   "name": "python3"
  },
  "language_info": {
   "codemirror_mode": {
    "name": "ipython",
    "version": 3
   },
   "file_extension": ".py",
   "mimetype": "text/x-python",
   "name": "python",
   "nbconvert_exporter": "python",
   "pygments_lexer": "ipython3",
   "version": "3.12.3"
  }
 },
 "nbformat": 4,
 "nbformat_minor": 5
}
