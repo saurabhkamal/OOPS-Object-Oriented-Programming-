{
 "cells": [
  {
   "cell_type": "markdown",
   "id": "f0b76cf7",
   "metadata": {},
   "source": [
    "## How object access attributes in OOP"
   ]
  },
  {
   "cell_type": "code",
   "execution_count": null,
   "id": "fea2ecc6",
   "metadata": {},
   "outputs": [],
   "source": [
    "class Person:\n",
    "    def __init__(self, name, country):\n",
    "        self.name = name   # attribute or class variable\n",
    "        self.country = country\n",
    "\n",
    "    def greeting(self):\n",
    "        if self.country == \"India\":\n",
    "            print(f\"Namaste {self.name}\")\n",
    "        else:\n",
    "            print(f\"Hello {self.name}\")"
   ]
  },
  {
   "cell_type": "code",
   "execution_count": 8,
   "id": "9b510c84",
   "metadata": {},
   "outputs": [],
   "source": [
    "p = Person(\"Saurabh\", \"United Kingdom\")"
   ]
  },
  {
   "cell_type": "code",
   "execution_count": 9,
   "id": "608393e5",
   "metadata": {},
   "outputs": [
    {
     "name": "stdout",
     "output_type": "stream",
     "text": [
      "Hello Saurabh\n"
     ]
    }
   ],
   "source": [
    "p.greeting()"
   ]
  },
  {
   "cell_type": "code",
   "execution_count": 12,
   "id": "f3c90537",
   "metadata": {},
   "outputs": [],
   "source": [
    "p = Person(\"Saurabh\", \"India\")\n"
   ]
  },
  {
   "cell_type": "code",
   "execution_count": 13,
   "id": "8af19adc",
   "metadata": {},
   "outputs": [
    {
     "name": "stdout",
     "output_type": "stream",
     "text": [
      "Namaste Saurabh\n"
     ]
    }
   ],
   "source": [
    "p.greeting()"
   ]
  },
  {
   "cell_type": "code",
   "execution_count": 14,
   "id": "2120b8d1",
   "metadata": {},
   "outputs": [
    {
     "data": {
      "text/plain": [
       "'Saurabh'"
      ]
     },
     "execution_count": 14,
     "metadata": {},
     "output_type": "execute_result"
    }
   ],
   "source": [
    "# access the attribute\n",
    "p.name"
   ]
  },
  {
   "cell_type": "code",
   "execution_count": 15,
   "id": "77b20901",
   "metadata": {},
   "outputs": [
    {
     "ename": "AttributeError",
     "evalue": "'Person' object has no attribute 'gender'",
     "output_type": "error",
     "traceback": [
      "\u001b[1;31m---------------------------------------------------------------------------\u001b[0m",
      "\u001b[1;31mAttributeError\u001b[0m                            Traceback (most recent call last)",
      "Cell \u001b[1;32mIn[15], line 1\u001b[0m\n\u001b[1;32m----> 1\u001b[0m p\u001b[38;5;241m.\u001b[39mgender\n",
      "\u001b[1;31mAttributeError\u001b[0m: 'Person' object has no attribute 'gender'"
     ]
    }
   ],
   "source": [
    "p.gender"
   ]
  },
  {
   "cell_type": "markdown",
   "id": "a5992474",
   "metadata": {},
   "source": []
  },
  {
   "cell_type": "code",
   "execution_count": 16,
   "id": "32878c2e",
   "metadata": {},
   "outputs": [],
   "source": [
    "# Attribute creation from outside of the class\n",
    "p.gender = \"male\""
   ]
  },
  {
   "cell_type": "code",
   "execution_count": 17,
   "id": "b4cb65cb",
   "metadata": {},
   "outputs": [
    {
     "data": {
      "text/plain": [
       "'male'"
      ]
     },
     "execution_count": 17,
     "metadata": {},
     "output_type": "execute_result"
    }
   ],
   "source": [
    "p.gender"
   ]
  },
  {
   "cell_type": "code",
   "execution_count": 18,
   "id": "b030aa4b",
   "metadata": {},
   "outputs": [],
   "source": [
    "p.age = 23"
   ]
  },
  {
   "cell_type": "code",
   "execution_count": 19,
   "id": "dc58fc8f",
   "metadata": {},
   "outputs": [
    {
     "data": {
      "text/plain": [
       "23"
      ]
     },
     "execution_count": 19,
     "metadata": {},
     "output_type": "execute_result"
    }
   ],
   "source": [
    "p.age"
   ]
  },
  {
   "cell_type": "code",
   "execution_count": null,
   "id": "714e74b0",
   "metadata": {},
   "outputs": [],
   "source": []
  },
  {
   "cell_type": "code",
   "execution_count": null,
   "id": "7f665f1d",
   "metadata": {},
   "outputs": [],
   "source": []
  },
  {
   "cell_type": "code",
   "execution_count": null,
   "id": "7fa55b91",
   "metadata": {},
   "outputs": [],
   "source": []
  },
  {
   "cell_type": "code",
   "execution_count": null,
   "id": "65e43f9a",
   "metadata": {},
   "outputs": [],
   "source": []
  }
 ],
 "metadata": {
  "kernelspec": {
   "display_name": "base",
   "language": "python",
   "name": "python3"
  },
  "language_info": {
   "codemirror_mode": {
    "name": "ipython",
    "version": 3
   },
   "file_extension": ".py",
   "mimetype": "text/x-python",
   "name": "python",
   "nbconvert_exporter": "python",
   "pygments_lexer": "ipython3",
   "version": "3.12.3"
  }
 },
 "nbformat": 4,
 "nbformat_minor": 5
}
