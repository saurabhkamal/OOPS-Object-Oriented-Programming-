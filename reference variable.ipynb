{
 "cells": [
  {
   "cell_type": "markdown",
   "id": "8938a95c",
   "metadata": {},
   "source": [
    "## Reference Variable"
   ]
  },
  {
   "cell_type": "code",
   "execution_count": 3,
   "id": "96f31e08",
   "metadata": {},
   "outputs": [],
   "source": [
    "class Person:\n",
    "    def __init__(self):\n",
    "        self.name = \"Saurabh\"   # attribute or class variable\n",
    "        self.country = \"United States\"  # attribute or class variable"
   ]
  },
  {
   "cell_type": "code",
   "execution_count": 4,
   "id": "cb163a8f",
   "metadata": {},
   "outputs": [],
   "source": [
    "p = Person()"
   ]
  },
  {
   "cell_type": "code",
   "execution_count": 5,
   "id": "1506e3cf",
   "metadata": {},
   "outputs": [
    {
     "data": {
      "text/plain": [
       "2575313107184"
      ]
     },
     "execution_count": 5,
     "metadata": {},
     "output_type": "execute_result"
    }
   ],
   "source": [
    "id(p)"
   ]
  },
  {
   "cell_type": "code",
   "execution_count": 6,
   "id": "a3a5c447",
   "metadata": {},
   "outputs": [
    {
     "data": {
      "text/plain": [
       "2575313107184"
      ]
     },
     "execution_count": 6,
     "metadata": {},
     "output_type": "execute_result"
    }
   ],
   "source": [
    "q = p\n",
    "id(q)"
   ]
  },
  {
   "cell_type": "code",
   "execution_count": 7,
   "id": "503ed40a",
   "metadata": {},
   "outputs": [
    {
     "name": "stdout",
     "output_type": "stream",
     "text": [
      "Saurabh\n",
      "Saurabh\n"
     ]
    }
   ],
   "source": [
    "print(p.name)\n",
    "print(q.name)"
   ]
  },
  {
   "cell_type": "code",
   "execution_count": 8,
   "id": "eca5d844",
   "metadata": {},
   "outputs": [],
   "source": [
    "q.name = \"Alex\""
   ]
  },
  {
   "cell_type": "code",
   "execution_count": 9,
   "id": "6d8ce654",
   "metadata": {},
   "outputs": [
    {
     "name": "stdout",
     "output_type": "stream",
     "text": [
      "Alex\n",
      "Alex\n"
     ]
    }
   ],
   "source": [
    "print(p.name)\n",
    "print(q.name)"
   ]
  },
  {
   "cell_type": "markdown",
   "id": "0c7ddefc",
   "metadata": {},
   "source": [
    "THis is called reference variable that means it is refering to the same object in the memory location."
   ]
  },
  {
   "cell_type": "code",
   "execution_count": null,
   "id": "ab14b756",
   "metadata": {},
   "outputs": [],
   "source": []
  },
  {
   "cell_type": "markdown",
   "id": "8ad04e6d",
   "metadata": {},
   "source": []
  }
 ],
 "metadata": {
  "kernelspec": {
   "display_name": "base",
   "language": "python",
   "name": "python3"
  },
  "language_info": {
   "codemirror_mode": {
    "name": "ipython",
    "version": 3
   },
   "file_extension": ".py",
   "mimetype": "text/x-python",
   "name": "python",
   "nbconvert_exporter": "python",
   "pygments_lexer": "ipython3",
   "version": "3.12.3"
  }
 },
 "nbformat": 4,
 "nbformat_minor": 5
}
