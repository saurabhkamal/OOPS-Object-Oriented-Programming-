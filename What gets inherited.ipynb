{
 "cells": [
  {
   "cell_type": "markdown",
   "id": "9e6af7ca",
   "metadata": {},
   "source": [
    "### What's get inherited ?"
   ]
  },
  {
   "cell_type": "code",
   "execution_count": 2,
   "id": "926a40b5",
   "metadata": {},
   "outputs": [
    {
     "name": "stdout",
     "output_type": "stream",
     "text": [
      "Inside Phone Constructor\n",
      "Buying a Phone\n"
     ]
    }
   ],
   "source": [
    "class Phone:\n",
    "    def __init__(self, price, brand, camera):\n",
    "        print(\"Inside Phone Constructor\")\n",
    "        self.price = price\n",
    "        self.brand = brand\n",
    "        self.camera = camera\n",
    "\n",
    "    def buy(self):\n",
    "        print(\"Buying a Phone\")\n",
    "\n",
    "class SmartPhone(Phone):\n",
    "    pass\n",
    "\n",
    "S = SmartPhone(200000, \"apple\", 3)\n",
    "S.buy()"
   ]
  },
  {
   "cell_type": "code",
   "execution_count": 3,
   "id": "b6692d1a",
   "metadata": {},
   "outputs": [
    {
     "name": "stdout",
     "output_type": "stream",
     "text": [
      "Inside SmartPhone Constructor\n",
      "Buying a Phone\n"
     ]
    }
   ],
   "source": [
    "class Phone:\n",
    "    def __init__(self, price, brand, camera):\n",
    "        print(\"Inside Phone Constructor\")\n",
    "        self.price = price\n",
    "        self.brand = brand\n",
    "        self.camera = camera\n",
    "\n",
    "    def buy(self):\n",
    "        print(\"Buying a Phone\")\n",
    "\n",
    "class SmartPhone(Phone):\n",
    "    def __init__(self, os, ram):\n",
    "        self.os = os\n",
    "        self.ram = ram\n",
    "        print(\"Inside SmartPhone Constructor\")\n",
    "\n",
    "S = SmartPhone(\"Andriod\", 8)\n",
    "S.buy()"
   ]
  },
  {
   "cell_type": "code",
   "execution_count": 5,
   "id": "4dad9589",
   "metadata": {},
   "outputs": [
    {
     "ename": "AttributeError",
     "evalue": "'SmartPhone' object has no attribute 'brand'",
     "output_type": "error",
     "traceback": [
      "\u001b[1;31m---------------------------------------------------------------------------\u001b[0m",
      "\u001b[1;31mAttributeError\u001b[0m                            Traceback (most recent call last)",
      "Cell \u001b[1;32mIn[5], line 1\u001b[0m\n\u001b[1;32m----> 1\u001b[0m S\u001b[38;5;241m.\u001b[39mbrand()\n",
      "\u001b[1;31mAttributeError\u001b[0m: 'SmartPhone' object has no attribute 'brand'"
     ]
    }
   ],
   "source": [
    "S.brand()"
   ]
  },
  {
   "cell_type": "code",
   "execution_count": 11,
   "id": "3050dc92",
   "metadata": {},
   "outputs": [
    {
     "name": "stdout",
     "output_type": "stream",
     "text": [
      "Inside Phone Constructor\n",
      "200000\n"
     ]
    }
   ],
   "source": [
    "class Phone:\n",
    "    def __init__(self, price, brand, camera):\n",
    "        print(\"Inside Phone Constructor\")\n",
    "        self.__price = price\n",
    "        self.brand = brand\n",
    "        self.camera = camera\n",
    "\n",
    "    def get_price(self):\n",
    "        return self.__price\n",
    "\n",
    "    def buy(self):\n",
    "        print(\"Buying a Phone\")\n",
    "\n",
    "class SmartPhone(Phone):\n",
    "    def print_price(self):\n",
    "        print(self.get_price())\n",
    "\n",
    "S = SmartPhone(200000, \"apple\", 3)\n",
    "S.print_price()"
   ]
  },
  {
   "cell_type": "code",
   "execution_count": null,
   "id": "5131064e",
   "metadata": {},
   "outputs": [],
   "source": []
  },
  {
   "cell_type": "markdown",
   "id": "a7732ae3",
   "metadata": {},
   "source": [
    "class Phone:\n"
   ]
  }
 ],
 "metadata": {
  "kernelspec": {
   "display_name": "base",
   "language": "python",
   "name": "python3"
  },
  "language_info": {
   "codemirror_mode": {
    "name": "ipython",
    "version": 3
   },
   "file_extension": ".py",
   "mimetype": "text/x-python",
   "name": "python",
   "nbconvert_exporter": "python",
   "pygments_lexer": "ipython3",
   "version": "3.12.3"
  }
 },
 "nbformat": 4,
 "nbformat_minor": 5
}
