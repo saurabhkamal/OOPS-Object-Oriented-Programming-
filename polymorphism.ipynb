{
 "cells": [
  {
   "cell_type": "markdown",
   "id": "ff20c069",
   "metadata": {},
   "source": [
    "### Polymorphism in OOP\n",
    "\n",
    "Polymorphism refers to having multiple forms. Polymorphism refers to the use of the same function name, but with different signatures.\n",
    "\n",
    "- Method Overriding: already done, prioritizing child over parent if it has its own constructor other parent is priotitized.\n",
    "- Method Overloading\n",
    "- Operator Overloading\n",
    "\n",
    "Like in other programming languages, in python one cannot use polymorphism concept but there is a way to use it"
   ]
  },
  {
   "cell_type": "markdown",
   "id": "05170c71",
   "metadata": {},
   "source": [
    "same but with 2 different functions\n"
   ]
  },
  {
   "cell_type": "code",
   "execution_count": 2,
   "id": "fbca695e",
   "metadata": {},
   "outputs": [
    {
     "ename": "TypeError",
     "evalue": "Shape.area() missing 1 required positional argument: 'b'",
     "output_type": "error",
     "traceback": [
      "\u001b[1;31m---------------------------------------------------------------------------\u001b[0m",
      "\u001b[1;31mTypeError\u001b[0m                                 Traceback (most recent call last)",
      "Cell \u001b[1;32mIn[2], line 10\u001b[0m\n\u001b[0;32m      7\u001b[0m         \u001b[38;5;28;01mreturn\u001b[39;00m l\u001b[38;5;241m*\u001b[39mb\n\u001b[0;32m      9\u001b[0m s \u001b[38;5;241m=\u001b[39m Shape()\n\u001b[1;32m---> 10\u001b[0m s\u001b[38;5;241m.\u001b[39marea(\u001b[38;5;241m2\u001b[39m)\n",
      "\u001b[1;31mTypeError\u001b[0m: Shape.area() missing 1 required positional argument: 'b'"
     ]
    }
   ],
   "source": [
    "class Shape:\n",
    "\n",
    "    def area(self, radius):\n",
    "        return 3.14*radius**2\n",
    "\n",
    "    def area(self, l, b):\n",
    "        return l*b\n",
    "\n",
    "s = Shape()\n",
    "s.area(2)"
   ]
  },
  {
   "cell_type": "code",
   "execution_count": 3,
   "id": "703c67e7",
   "metadata": {},
   "outputs": [
    {
     "data": {
      "text/plain": [
       "6"
      ]
     },
     "execution_count": 3,
     "metadata": {},
     "output_type": "execute_result"
    }
   ],
   "source": [
    "class Shape:\n",
    "\n",
    "    def area(self, radius):\n",
    "        return 3.14*radius**2\n",
    "\n",
    "    def area(self, l, b):\n",
    "        return l*b\n",
    "\n",
    "s = Shape()\n",
    "s.area(2, 3)"
   ]
  },
  {
   "cell_type": "markdown",
   "id": "b8d8e32c",
   "metadata": {},
   "source": [
    "\n",
    "Idea is, if 2 values given then second function is implemented and when 1 value is given first function is implemented. However, polymorphism concept is not used in python, but there is a way out."
   ]
  },
  {
   "cell_type": "code",
   "execution_count": 5,
   "id": "b950e1e5",
   "metadata": {},
   "outputs": [
    {
     "name": "stdout",
     "output_type": "stream",
     "text": [
      "Radius\n"
     ]
    },
    {
     "data": {
      "text/plain": [
       "200.96"
      ]
     },
     "execution_count": 5,
     "metadata": {},
     "output_type": "execute_result"
    }
   ],
   "source": [
    "class Shape:\n",
    "\n",
    "    def area(self, radius, l, b):\n",
    "        if b == None:\n",
    "            print(\"Radius\")\n",
    "            return 3.14 * radius ** 2\n",
    "        else:\n",
    "            print(\"Multiply\")\n",
    "            return l*b\n",
    "\n",
    "s = Shape()\n",
    "s.area(radius = 8, l=None, b = None)"
   ]
  },
  {
   "cell_type": "code",
   "execution_count": 6,
   "id": "f922530d",
   "metadata": {},
   "outputs": [
    {
     "name": "stdout",
     "output_type": "stream",
     "text": [
      "Multiply\n"
     ]
    },
    {
     "data": {
      "text/plain": [
       "6"
      ]
     },
     "execution_count": 6,
     "metadata": {},
     "output_type": "execute_result"
    }
   ],
   "source": [
    "s.area(radius = 8, l = 2, b = 3)"
   ]
  },
  {
   "cell_type": "markdown",
   "id": "e55f75f0",
   "metadata": {},
   "source": [
    "### Operator Overloading: same operator you are using for multiple task"
   ]
  },
  {
   "cell_type": "code",
   "execution_count": 7,
   "id": "8ff71b09",
   "metadata": {},
   "outputs": [
    {
     "data": {
      "text/plain": [
       "'HelloHello'"
      ]
     },
     "execution_count": 7,
     "metadata": {},
     "output_type": "execute_result"
    }
   ],
   "source": [
    "\"Hello\" + \"Hello\""
   ]
  },
  {
   "cell_type": "code",
   "execution_count": 8,
   "id": "9642bd58",
   "metadata": {},
   "outputs": [
    {
     "data": {
      "text/plain": [
       "7"
      ]
     },
     "execution_count": 8,
     "metadata": {},
     "output_type": "execute_result"
    }
   ],
   "source": [
    "3 + 4"
   ]
  },
  {
   "cell_type": "code",
   "execution_count": 9,
   "id": "52e21e85",
   "metadata": {},
   "outputs": [
    {
     "data": {
      "text/plain": [
       "[1, 2, 3, 4, 5, 6]"
      ]
     },
     "execution_count": 9,
     "metadata": {},
     "output_type": "execute_result"
    }
   ],
   "source": [
    "[1,2,3] + [4,5,6]"
   ]
  },
  {
   "cell_type": "markdown",
   "id": "88f8fc28",
   "metadata": {},
   "source": [
    "This is the idea, that means the same operator you are using but it is working in a different form with different datatype."
   ]
  },
  {
   "cell_type": "code",
   "execution_count": null,
   "id": "fe42ee63",
   "metadata": {},
   "outputs": [],
   "source": []
  },
  {
   "cell_type": "markdown",
   "id": "f40eb308",
   "metadata": {},
   "source": []
  }
 ],
 "metadata": {
  "kernelspec": {
   "display_name": "base",
   "language": "python",
   "name": "python3"
  },
  "language_info": {
   "codemirror_mode": {
    "name": "ipython",
    "version": 3
   },
   "file_extension": ".py",
   "mimetype": "text/x-python",
   "name": "python",
   "nbconvert_exporter": "python",
   "pygments_lexer": "ipython3",
   "version": "3.12.3"
  }
 },
 "nbformat": 4,
 "nbformat_minor": 5
}
