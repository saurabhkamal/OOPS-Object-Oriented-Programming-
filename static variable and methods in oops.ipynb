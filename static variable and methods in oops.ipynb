{
 "cells": [
  {
   "cell_type": "markdown",
   "id": "be8ebd85",
   "metadata": {},
   "source": [
    "## Static variable and methods in OOPs\n",
    "\n",
    "static variable means you will be defining the varaible inside the class, not inside the constructor.\n",
    "\n",
    "name should be static variable because everytime customer name will be different."
   ]
  },
  {
   "cell_type": "code",
   "execution_count": 7,
   "id": "0c7445bd",
   "metadata": {},
   "outputs": [],
   "source": [
    "class AtmMachine:\n",
    "\n",
    "    customer_id = 0 # static variable\n",
    "\n",
    "    # Constructor (special function) -> superpowers\n",
    "    def __init__(self):\n",
    "        self.pin = \"\"\n",
    "        self.balance = 0\n",
    "        self.customer_id = AtmMachine.customer_id\n",
    "        AtmMachine.customer_id += 1\n",
    "        # self.menu()\n",
    "\n",
    "    # methods ==> Identifying a method by a self keyword (inside a class how to mention different different functions), but it should be called as a method  \n",
    "    def menu(self):\n",
    "        user_input = input(\n",
    "            \"\"\"\n",
    "            Hi how can i help you?\n",
    "\n",
    "            1. Press 1 to create pin\n",
    "            2. Press 2 to change pin\n",
    "            3. Press 3 to check balence\n",
    "            4. Press 4 to withdraw\n",
    "            5. Anything to exit\n",
    "            \"\"\"\n",
    "        )\n",
    "\n",
    "        if user_input == \"1\":\n",
    "            #create a pin\n",
    "            self.create_pin()\n",
    "\n",
    "        elif user_input == \"2\":\n",
    "            # change pin\n",
    "            self.change_pin()\n",
    "\n",
    "        elif user_input == \"3\":\n",
    "            #check balance\n",
    "            self.check_balance()\n",
    "\n",
    "        elif user_input == \"4\":\n",
    "            # withdraw\n",
    "            self.withdraw_balance()\n",
    "        \n",
    "        else:\n",
    "            exit()\n",
    "\n",
    "    \n",
    "    def create_pin(self):\n",
    "        user_pin = input(\"Enter your pin: \")\n",
    "        self.pin = user_pin\n",
    "\n",
    "        user_balance = int(input(\"Enter Balance: \"))\n",
    "        self.balance = user_balance\n",
    "\n",
    "        print(\"Pin Created Successfully!\")\n",
    "        # self.menu()\n",
    "\n",
    "    \n",
    "    def change_pin(self):\n",
    "        old_pin = input(\"Enter your old pin: \")\n",
    "\n",
    "        if old_pin == self.pin:\n",
    "            new_pin = input(\"Enter new pin: \")\n",
    "            self.pin = new_pin\n",
    "            print(\"Pin changed successfully!\")\n",
    "            self.menu()\n",
    "        else:\n",
    "            print(\"Invalid Pin!\")\n",
    "            self.menu()\n",
    "\n",
    "    \n",
    "    def check_balance(self):\n",
    "        user_pin = input(\"Enter your pin: \")\n",
    "        if user_pin == self.pin:\n",
    "            print(f\"Your balance is {self.balance}\")\n",
    "\n",
    "        else:\n",
    "            print(\"Your pin is incorrect, please try again\")\n",
    "        # self.menu()\n",
    "\n",
    "    def withdraw_balance(self):\n",
    "        user_pin = input(\"Enter your pin: \")\n",
    "        if user_pin == self.pin:\n",
    "            # allow to withdraw\n",
    "            amount = int(input(\"Enter the amount: \"))\n",
    "            if amount <= self.balance:\n",
    "                self.balance = self.balance - amount\n",
    "                print(f\"You have withdrawn {amount}. Your new balance is {self.balance}\")\n",
    "\n",
    "            else:\n",
    "                print(\"Insufficient balance!\")\n",
    "            \n",
    "        else:\n",
    "            print(\"Your pin is incorrect, please try again\")\n",
    "        # self.menu()"
   ]
  },
  {
   "cell_type": "code",
   "execution_count": 8,
   "id": "6fd528a4",
   "metadata": {},
   "outputs": [],
   "source": [
    "c1 = AtmMachine()"
   ]
  },
  {
   "cell_type": "code",
   "execution_count": 9,
   "id": "5a22e497",
   "metadata": {},
   "outputs": [
    {
     "data": {
      "text/plain": [
       "1"
      ]
     },
     "execution_count": 9,
     "metadata": {},
     "output_type": "execute_result"
    }
   ],
   "source": [
    "AtmMachine.customer_id"
   ]
  },
  {
   "cell_type": "code",
   "execution_count": 10,
   "id": "f6de09a5",
   "metadata": {},
   "outputs": [],
   "source": [
    "c2 = AtmMachine()"
   ]
  },
  {
   "cell_type": "code",
   "execution_count": 11,
   "id": "74306a10",
   "metadata": {},
   "outputs": [
    {
     "data": {
      "text/plain": [
       "2"
      ]
     },
     "execution_count": 11,
     "metadata": {},
     "output_type": "execute_result"
    }
   ],
   "source": [
    "AtmMachine.customer_id"
   ]
  },
  {
   "cell_type": "code",
   "execution_count": 12,
   "id": "7f7b5aee",
   "metadata": {},
   "outputs": [
    {
     "data": {
      "text/plain": [
       "3"
      ]
     },
     "execution_count": 12,
     "metadata": {},
     "output_type": "execute_result"
    }
   ],
   "source": [
    "c3 = AtmMachine()\n",
    "AtmMachine.customer_id"
   ]
  },
  {
   "cell_type": "markdown",
   "id": "ef053d40",
   "metadata": {},
   "source": [
    "Having different different customer in this ATM\n",
    "\n",
    "If you want to get something unique that time you can use like static variable and if you want to get similar things that time you can use instance variable."
   ]
  },
  {
   "cell_type": "code",
   "execution_count": null,
   "id": "bef7e66c",
   "metadata": {},
   "outputs": [],
   "source": []
  },
  {
   "cell_type": "code",
   "execution_count": 13,
   "id": "b13093b8",
   "metadata": {},
   "outputs": [],
   "source": [
    "AtmMachine.customer_id = \"Hello\""
   ]
  },
  {
   "cell_type": "code",
   "execution_count": 14,
   "id": "7662acec",
   "metadata": {},
   "outputs": [
    {
     "data": {
      "text/plain": [
       "'Hello'"
      ]
     },
     "execution_count": 14,
     "metadata": {},
     "output_type": "execute_result"
    }
   ],
   "source": [
    "AtmMachine.customer_id"
   ]
  },
  {
   "cell_type": "markdown",
   "id": "948ce6f7",
   "metadata": {},
   "source": [
    "How to prevent this: you can use this variable privately"
   ]
  },
  {
   "cell_type": "code",
   "execution_count": 20,
   "id": "71645d7b",
   "metadata": {},
   "outputs": [],
   "source": [
    "class AtmMachine:\n",
    "\n",
    "    __customer_id = 0 # static variable\n",
    "\n",
    "    # Constructor (special function) -> superpowers\n",
    "    def __init__(self):\n",
    "        self.pin = \"\"\n",
    "        self.balance = 0\n",
    "        self.customer_id = AtmMachine.__customer_id\n",
    "        AtmMachine.__customer_id += 1\n",
    "        # self.menu()\n",
    "\n",
    "    # getter method\n",
    "    @staticmethod\n",
    "    def get_customer_id(self):\n",
    "        return AtmMachine.__customer_id\n",
    "\n",
    "    # methods ==> Identifying a method by a self keyword (inside a class how to mention different different functions), but it should be called as a method  \n",
    "    def menu(self):\n",
    "        user_input = input(\n",
    "            \"\"\"\n",
    "            Hi how can i help you?\n",
    "\n",
    "            1. Press 1 to create pin\n",
    "            2. Press 2 to change pin\n",
    "            3. Press 3 to check balence\n",
    "            4. Press 4 to withdraw\n",
    "            5. Anything to exit\n",
    "            \"\"\"\n",
    "        )\n",
    "\n",
    "        if user_input == \"1\":\n",
    "            #create a pin\n",
    "            self.create_pin()\n",
    "\n",
    "        elif user_input == \"2\":\n",
    "            # change pin\n",
    "            self.change_pin()\n",
    "\n",
    "        elif user_input == \"3\":\n",
    "            #check balance\n",
    "            self.check_balance()\n",
    "\n",
    "        elif user_input == \"4\":\n",
    "            # withdraw\n",
    "            self.withdraw_balance()\n",
    "        \n",
    "        else:\n",
    "            exit()\n",
    "\n",
    "    \n",
    "    def create_pin(self):\n",
    "        user_pin = input(\"Enter your pin: \")\n",
    "        self.pin = user_pin\n",
    "\n",
    "        user_balance = int(input(\"Enter Balance: \"))\n",
    "        self.balance = user_balance\n",
    "\n",
    "        print(\"Pin Created Successfully!\")\n",
    "        # self.menu()\n",
    "\n",
    "    \n",
    "    def change_pin(self):\n",
    "        old_pin = input(\"Enter your old pin: \")\n",
    "\n",
    "        if old_pin == self.pin:\n",
    "            new_pin = input(\"Enter new pin: \")\n",
    "            self.pin = new_pin\n",
    "            print(\"Pin changed successfully!\")\n",
    "            self.menu()\n",
    "        else:\n",
    "            print(\"Invalid Pin!\")\n",
    "            self.menu()\n",
    "\n",
    "    \n",
    "    def check_balance(self):\n",
    "        user_pin = input(\"Enter your pin: \")\n",
    "        if user_pin == self.pin:\n",
    "            print(f\"Your balance is {self.balance}\")\n",
    "\n",
    "        else:\n",
    "            print(\"Your pin is incorrect, please try again\")\n",
    "        # self.menu()\n",
    "\n",
    "    def withdraw_balance(self):\n",
    "        user_pin = input(\"Enter your pin: \")\n",
    "        if user_pin == self.pin:\n",
    "            # allow to withdraw\n",
    "            amount = int(input(\"Enter the amount: \"))\n",
    "            if amount <= self.balance:\n",
    "                self.balance = self.balance - amount\n",
    "                print(f\"You have withdrawn {amount}. Your new balance is {self.balance}\")\n",
    "\n",
    "            else:\n",
    "                print(\"Insufficient balance!\")\n",
    "            \n",
    "        else:\n",
    "            print(\"Your pin is incorrect, please try again\")\n",
    "        # self.menu()"
   ]
  },
  {
   "cell_type": "code",
   "execution_count": 21,
   "id": "e409b44d",
   "metadata": {},
   "outputs": [],
   "source": [
    "AtmMachine.__customer_id = \"Hello\""
   ]
  },
  {
   "cell_type": "code",
   "execution_count": 22,
   "id": "de7ea9de",
   "metadata": {},
   "outputs": [
    {
     "data": {
      "text/plain": [
       "'Hello'"
      ]
     },
     "execution_count": 22,
     "metadata": {},
     "output_type": "execute_result"
    }
   ],
   "source": [
    "AtmMachine.__customer_id"
   ]
  },
  {
   "cell_type": "markdown",
   "id": "c4c419f7",
   "metadata": {},
   "source": [
    "## Difference between static variables and instance variables in Python OOPS\n",
    "\n",
    "1. Instance Variables: Variables defined inside a method, typically with `__init__` , and prefixed with `self`."
   ]
  },
  {
   "cell_type": "code",
   "execution_count": 30,
   "id": "2190662f",
   "metadata": {},
   "outputs": [
    {
     "name": "stdout",
     "output_type": "stream",
     "text": [
      "Alice\n",
      "Bob\n"
     ]
    }
   ],
   "source": [
    "class Student:\n",
    "    def __init__(self, name):\n",
    "        self.name = name  # Instance Variable\n",
    "\n",
    "# Create Instances (objects)\n",
    "s1 = Student(\"Alice\")\n",
    "s2 = Student(\"Bob\")\n",
    "\n",
    "print(s1.name)\n",
    "print(s2.name)"
   ]
  },
  {
   "cell_type": "markdown",
   "id": "48c76a72",
   "metadata": {},
   "source": [
    "2. Static Variables: defined inside a class, but outside any instance methods.\n",
    "- shared by all instances of the class\n",
    "- Used for class-level data, common to all objects"
   ]
  },
  {
   "cell_type": "code",
   "execution_count": 32,
   "id": "e056606c",
   "metadata": {},
   "outputs": [
    {
     "name": "stdout",
     "output_type": "stream",
     "text": [
      "XYZ High School\n",
      "XYZ High School\n",
      "XYZ High School\n",
      "Alice\n",
      "Bob\n"
     ]
    }
   ],
   "source": [
    "class Student:\n",
    "    school_name = \"XYZ High School\"  # Static/Class variable\n",
    "\n",
    "    def __init__(self, name):\n",
    "        self.name = name  # instance variable\n",
    "\n",
    "# Access via class \n",
    "print(Student.school_name) # Output: XYZ High School\n",
    "\n",
    "# Access via instance \n",
    "s1 = Student(\"Alice\")\n",
    "s2 = Student(\"Bob\")\n",
    "print(s1.school_name)\n",
    "print(s2.school_name)\n",
    "\n",
    "print(s1.name)    # Output: XYZ High School\n",
    "print(s2.name)    # Output: XYZ High School"
   ]
  },
  {
   "cell_type": "markdown",
   "id": "0b5c5fdb",
   "metadata": {},
   "source": [
    "Let's break down the difference between **static variables** (also called **class variables**) and **instance variables** in Python's Object Oriented Programming (OOP), with clear explanations and examples.\n",
    "\n",
    "---\n",
    "\n",
    "## 1. **Instance Variables**\n",
    "\n",
    "- **Definition**: Variables defined **inside a method**, typically within `__init__`, and prefixed with `self.`.\n",
    "- **Scope**: Unique to **each instance** (object) of a class.\n",
    "- **Usage**: Stores data **unique to each object**.\n",
    "\n",
    "**Example:**\n",
    "\n",
    "```python\n",
    "class Student:\n",
    "    def __init__(self, name):\n",
    "        self.name = name     # Instance variable\n",
    "\n",
    "# Create instances (objects)\n",
    "s1 = Student(\"Alice\")\n",
    "s2 = Student(\"Bob\")\n",
    "\n",
    "print(s1.name)     # Output: Alice\n",
    "print(s2.name)     # Output: Bob\n",
    "```\n",
    "\n",
    "---\n",
    "\n",
    "## 2. **Static Variables (Class Variables)**\n",
    "\n",
    "- **Definition**: Variables defined **inside the class**, but **outside any instance methods**.\n",
    "- **Scope**: **Shared by all instances** of the class.\n",
    "- **Usage**: Used for class-level data, common to all objects.\n",
    "\n",
    "**Example:**\n",
    "\n",
    "```python\n",
    "class Student:\n",
    "    school_name = \"XYZ High School\"  # Static/Class variable\n",
    "\n",
    "    def __init__(self, name):\n",
    "        self.name = name  # Instance variable\n",
    "\n",
    "# Access via class\n",
    "print(Student.school_name)  # Output: XYZ High School\n",
    "\n",
    "# Access via instance\n",
    "s1 = Student(\"Alice\")\n",
    "s2 = Student(\"Bob\")\n",
    "print(s1.school_name)  # Output: XYZ High School\n",
    "print(s2.school_name)  # Output: XYZ High School\n",
    "```\n",
    "\n",
    "---\n",
    "\n",
    "## 3. **Key Differences Table**\n",
    "\n",
    "|             | Instance Variable      | Static/Class Variable   |\n",
    "|-------------|-----------------------|------------------------|\n",
    "| Defined in  | Methods (self.)       | Class body             |\n",
    "| Accessed by | self.<var>            | ClassName.<var> or self.<var> |\n",
    "| Scope       | Each object/instance  | All instances          |\n",
    "| Value       | Unique per object     | Same for all objects   |\n",
    "\n",
    "---\n",
    "\n",
    "## 4. **Demonstration: Modification Behavior**\n",
    "\n",
    "**Instance Variable Example:**\n",
    "```python\n",
    "s1.name = \"Alice\"\n",
    "s2.name = \"Bob\"\n",
    "# s1.name and s2.name are different.\n",
    "```\n",
    "\n",
    "**Static Variable Example:**\n",
    "```python\n",
    "Student.school_name = \"ABC Public School\"\n",
    "print(s1.school_name)  # Output: ABC Public School\n",
    "print(s2.school_name)  # Output: ABC Public School\n",
    "```\n",
    "If you change `school_name` via the class, all instances see the new value.\n",
    "\n",
    "**But if you assign via an instance:**\n",
    "```python\n",
    "s1.school_name = \"DEF International School\"\n",
    "print(s1.school_name)  # DEF International School (instance variable now)\n",
    "print(s2.school_name)  # ABC Public School (still class variable)\n",
    "print(Student.school_name)  # ABC Public School\n",
    "\n",
    "# s1.school_name is now an instance variable that hides the class variable.\n",
    "```\n",
    "\n",
    "---\n",
    "\n",
    "## 5. **Summary**\n",
    "\n",
    "- Use **instance variables** for data that varies per object (e.g., `name`, `age`).\n",
    "- Use **static/class variables** for data that's the same for all instances (e.g., `school_name`).\n",
    "\n",
    "---\n",
    "\n",
    "If you need more complex examples or have further questions, feel free to ask!"
   ]
  },
  {
   "cell_type": "markdown",
   "id": "3ba639a0",
   "metadata": {},
   "source": []
  }
 ],
 "metadata": {
  "kernelspec": {
   "display_name": "base",
   "language": "python",
   "name": "python3"
  },
  "language_info": {
   "codemirror_mode": {
    "name": "ipython",
    "version": 3
   },
   "file_extension": ".py",
   "mimetype": "text/x-python",
   "name": "python",
   "nbconvert_exporter": "python",
   "pygments_lexer": "ipython3",
   "version": "3.12.3"
  }
 },
 "nbformat": 4,
 "nbformat_minor": 5
}
