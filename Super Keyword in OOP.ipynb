{
 "cells": [
  {
   "cell_type": "markdown",
   "id": "2b27f480",
   "metadata": {},
   "source": [
    "### Super Keyword in OOP"
   ]
  },
  {
   "cell_type": "code",
   "execution_count": 1,
   "id": "24517d0b",
   "metadata": {},
   "outputs": [
    {
     "name": "stdout",
     "output_type": "stream",
     "text": [
      "Inside Phone Constructor\n",
      "Buying a Phone inside Smartphone Constructor\n",
      "Buying a Phone inside Phone Constructor\n"
     ]
    }
   ],
   "source": [
    "class Phone:\n",
    "    def __init__(self, price, brand, camera):\n",
    "        print(\"Inside Phone Constructor\")\n",
    "        self.__price = price\n",
    "        self.brand = brand\n",
    "        self.camera = camera\n",
    "\n",
    "    def get_price(self):\n",
    "        return self.__price\n",
    "\n",
    "    def buy(self):\n",
    "        print(\"Buying a Phone inside Phone Constructor\")\n",
    "\n",
    "class SmartPhone(Phone):\n",
    "    def buy(self):\n",
    "        print(\"Buying a Phone inside Smartphone Constructor\")\n",
    "\n",
    "        super().buy()\n",
    "\n",
    "S = SmartPhone(200000, \"apple\", 3)\n",
    "S.buy()"
   ]
  },
  {
   "cell_type": "markdown",
   "id": "d510b5a2",
   "metadata": {},
   "source": [
    "With the help of Super keyword or super function, you can acces your parent class, attribute, as well as the method."
   ]
  },
  {
   "cell_type": "markdown",
   "id": "a91698ea",
   "metadata": {},
   "source": [
    "How to do for attribute execution?"
   ]
  },
  {
   "cell_type": "code",
   "execution_count": 2,
   "id": "33859a85",
   "metadata": {},
   "outputs": [
    {
     "name": "stdout",
     "output_type": "stream",
     "text": [
      "Inside SmartPhone Constructor\n",
      "Inside Phone Constructor\n",
      "Samsung\n",
      "Android\n",
      "200000\n"
     ]
    }
   ],
   "source": [
    "class Phone:\n",
    "    def __init__(self, price, brand, camera):\n",
    "        print(\"Inside Phone Constructor\")\n",
    "        self.price = price\n",
    "        self.brand = brand\n",
    "        self.camera = camera\n",
    "    \n",
    "class SmartPhone(Phone):\n",
    "    def __init__(self, price, brand, camera, os, ram):\n",
    "        print(\"Inside SmartPhone Constructor\")\n",
    "        super().__init__(price, brand, camera)\n",
    "        self.os = os\n",
    "        self.ram = ram\n",
    "\n",
    "S = SmartPhone(200000, \"Samsung\", 3, \"Android\", 16)\n",
    "print(S.brand)\n",
    "print(S.os)\n",
    "print(S.price)"
   ]
  },
  {
   "cell_type": "markdown",
   "id": "19fd9687",
   "metadata": {},
   "source": [
    "So, previous issue can be solved with the help of super keyword."
   ]
  },
  {
   "cell_type": "markdown",
   "id": "4ac37818",
   "metadata": {},
   "source": []
  }
 ],
 "metadata": {
  "kernelspec": {
   "display_name": "base",
   "language": "python",
   "name": "python3"
  },
  "language_info": {
   "codemirror_mode": {
    "name": "ipython",
    "version": 3
   },
   "file_extension": ".py",
   "mimetype": "text/x-python",
   "name": "python",
   "nbconvert_exporter": "python",
   "pygments_lexer": "ipython3",
   "version": "3.12.3"
  }
 },
 "nbformat": 4,
 "nbformat_minor": 5
}
