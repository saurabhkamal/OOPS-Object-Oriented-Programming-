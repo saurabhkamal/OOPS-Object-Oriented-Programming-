{
 "cells": [
  {
   "cell_type": "markdown",
   "id": "0f953ca1",
   "metadata": {},
   "source": [
    "## Pass by reference in OOP\n",
    "\n",
    "Here, we will understand how you can pass the class object as reference."
   ]
  },
  {
   "cell_type": "code",
   "execution_count": 1,
   "id": "cafe2f61",
   "metadata": {},
   "outputs": [],
   "source": [
    "class Person:\n",
    "    def __init__(self, name, gender):\n",
    "        self.name = name   # attribute or class variable\n",
    "        self.gender = gender\n",
    "\n",
    "\n",
    "# Outside of class, creating a function\n",
    "def greeting(person):\n",
    "    print(f\"Hi My name is {person.name} and I am a {person.gender}\")\n",
    "    p1 = Person(\"Alex\", \"Male\")\n",
    "    return p1"
   ]
  },
  {
   "cell_type": "code",
   "execution_count": 2,
   "id": "4525e0df",
   "metadata": {},
   "outputs": [],
   "source": [
    "p = Person(\"Saurabh\", \"Male\")\n",
    "\n",
    "# You can pass the class object as reference to the function below  "
   ]
  },
  {
   "cell_type": "code",
   "execution_count": 3,
   "id": "e7c81242",
   "metadata": {},
   "outputs": [
    {
     "name": "stdout",
     "output_type": "stream",
     "text": [
      "Hi My name is Saurabh and I am a Male\n"
     ]
    }
   ],
   "source": [
    "a = greeting(p)"
   ]
  },
  {
   "cell_type": "code",
   "execution_count": 4,
   "id": "c54437eb",
   "metadata": {},
   "outputs": [
    {
     "data": {
      "text/plain": [
       "'Alex'"
      ]
     },
     "execution_count": 4,
     "metadata": {},
     "output_type": "execute_result"
    }
   ],
   "source": [
    "a.name"
   ]
  },
  {
   "cell_type": "code",
   "execution_count": 14,
   "id": "19049d1e",
   "metadata": {},
   "outputs": [
    {
     "data": {
      "text/plain": [
       "'Male'"
      ]
     },
     "execution_count": 14,
     "metadata": {},
     "output_type": "execute_result"
    }
   ],
   "source": [
    "a.gender"
   ]
  },
  {
   "cell_type": "markdown",
   "id": "1b4fad40",
   "metadata": {},
   "source": [
    "You can also return one specific class object from a function."
   ]
  },
  {
   "cell_type": "markdown",
   "id": "4361a579",
   "metadata": {},
   "source": []
  }
 ],
 "metadata": {
  "kernelspec": {
   "display_name": "base",
   "language": "python",
   "name": "python3"
  },
  "language_info": {
   "codemirror_mode": {
    "name": "ipython",
    "version": 3
   },
   "file_extension": ".py",
   "mimetype": "text/x-python",
   "name": "python",
   "nbconvert_exporter": "python",
   "pygments_lexer": "ipython3",
   "version": "3.12.3"
  }
 },
 "nbformat": 4,
 "nbformat_minor": 5
}
