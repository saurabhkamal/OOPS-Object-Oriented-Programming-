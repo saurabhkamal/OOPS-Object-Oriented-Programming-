{
 "cells": [
  {
   "cell_type": "markdown",
   "id": "4719e37b",
   "metadata": {},
   "source": [
    "### Method Overriding in OOP"
   ]
  },
  {
   "cell_type": "code",
   "execution_count": 1,
   "id": "b9ca3838",
   "metadata": {},
   "outputs": [
    {
     "name": "stdout",
     "output_type": "stream",
     "text": [
      "Inside Phone Constructor\n",
      "Buying a Phone inside Smartphone Constructor\n"
     ]
    }
   ],
   "source": [
    "class Phone:\n",
    "    def __init__(self, price, brand, camera):\n",
    "        print(\"Inside Phone Constructor\")\n",
    "        self.__price = price\n",
    "        self.brand = brand\n",
    "        self.camera = camera\n",
    "\n",
    "    def get_price(self):\n",
    "        return self.__price\n",
    "\n",
    "    def buy(self):\n",
    "        print(\"Buying a Phone inside Phone Constructor\")\n",
    "\n",
    "class SmartPhone(Phone):\n",
    "    def buy(self):\n",
    "        print(\"Buying a Phone inside Smartphone Constructor\")\n",
    "\n",
    "S = SmartPhone(200000, \"apple\", 3)\n",
    "S.buy()"
   ]
  },
  {
   "cell_type": "markdown",
   "id": "99faf928",
   "metadata": {},
   "source": []
  }
 ],
 "metadata": {
  "kernelspec": {
   "display_name": "base",
   "language": "python",
   "name": "python3"
  },
  "language_info": {
   "codemirror_mode": {
    "name": "ipython",
    "version": 3
   },
   "file_extension": ".py",
   "mimetype": "text/x-python",
   "name": "python",
   "nbconvert_exporter": "python",
   "pygments_lexer": "ipython3",
   "version": "3.12.3"
  }
 },
 "nbformat": 4,
 "nbformat_minor": 5
}
