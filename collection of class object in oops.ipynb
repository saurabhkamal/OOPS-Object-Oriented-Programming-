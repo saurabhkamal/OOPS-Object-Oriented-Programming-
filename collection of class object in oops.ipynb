{
 "cells": [
  {
   "cell_type": "markdown",
   "id": "5e3a405d",
   "metadata": {},
   "source": [
    "## Collection of class objects in OOP"
   ]
  },
  {
   "cell_type": "code",
   "execution_count": 1,
   "id": "dcaafc2f",
   "metadata": {},
   "outputs": [],
   "source": [
    "class Person:\n",
    "\n",
    "    def __init__(self, name, country):\n",
    "        self.name = name\n",
    "        self.country = country"
   ]
  },
  {
   "cell_type": "code",
   "execution_count": 2,
   "id": "9a078ffb",
   "metadata": {},
   "outputs": [],
   "source": [
    "p1 = Person(\"Saurabh\", \"UK\")\n",
    "p2 = Person(\"Alex\", \"USA\")\n",
    "p3 = Person(\"George\", \"India\")"
   ]
  },
  {
   "cell_type": "code",
   "execution_count": 3,
   "id": "744c7bc2",
   "metadata": {},
   "outputs": [
    {
     "name": "stdout",
     "output_type": "stream",
     "text": [
      "[<__main__.Person object at 0x000002CAB23A4B00>, <__main__.Person object at 0x000002CAB27C9610>, <__main__.Person object at 0x000002CAB27C9520>]\n"
     ]
    }
   ],
   "source": [
    "L = [p1, p2, p3]\n",
    "print(L)"
   ]
  },
  {
   "cell_type": "code",
   "execution_count": 4,
   "id": "d3ab74bc",
   "metadata": {},
   "outputs": [
    {
     "name": "stdout",
     "output_type": "stream",
     "text": [
      "<__main__.Person object at 0x000002CAB23A4B00>\n",
      "<__main__.Person object at 0x000002CAB27C9610>\n",
      "<__main__.Person object at 0x000002CAB27C9520>\n"
     ]
    }
   ],
   "source": [
    "for i in L:\n",
    "    print(i)"
   ]
  },
  {
   "cell_type": "code",
   "execution_count": 5,
   "id": "bafb503f",
   "metadata": {},
   "outputs": [
    {
     "name": "stdout",
     "output_type": "stream",
     "text": [
      "Saurabh UK\n",
      "Alex USA\n",
      "George India\n"
     ]
    }
   ],
   "source": [
    "for i in L:\n",
    "    print(i.name, i.country)"
   ]
  },
  {
   "cell_type": "markdown",
   "id": "3c06707d",
   "metadata": {},
   "source": [
    "So, that's how we can store collection of class object inside the data structure. Like list data structure, data structure.\n",
    "\n",
    "Other options"
   ]
  },
  {
   "cell_type": "code",
   "execution_count": null,
   "id": "c25842d9",
   "metadata": {},
   "outputs": [
    {
     "name": "stdout",
     "output_type": "stream",
     "text": [
      "(<__main__.Person object at 0x000002CAB23A4B00>, <__main__.Person object at 0x000002CAB27C9610>, <__main__.Person object at 0x000002CAB27C9520>)\n"
     ]
    }
   ],
   "source": [
    "# tuple\n",
    "t = (p1, p2, p3)\n",
    "print(t)"
   ]
  },
  {
   "cell_type": "code",
   "execution_count": 7,
   "id": "532b2b0e",
   "metadata": {},
   "outputs": [
    {
     "name": "stdout",
     "output_type": "stream",
     "text": [
      "Saurabh UK\n",
      "Alex USA\n",
      "George India\n"
     ]
    }
   ],
   "source": [
    "for i in t:\n",
    "    print(i.name, i.country)"
   ]
  },
  {
   "cell_type": "code",
   "execution_count": 10,
   "id": "d8ce6fb1",
   "metadata": {},
   "outputs": [
    {
     "name": "stdout",
     "output_type": "stream",
     "text": [
      "{<__main__.Person object at 0x000002CAB23A4B00>, <__main__.Person object at 0x000002CAB27C9610>, <__main__.Person object at 0x000002CAB27C9520>}\n"
     ]
    }
   ],
   "source": [
    "# string\n",
    "s = {p1, p2, p3}\n",
    "print(s)"
   ]
  },
  {
   "cell_type": "code",
   "execution_count": 11,
   "id": "2516b840",
   "metadata": {},
   "outputs": [
    {
     "name": "stdout",
     "output_type": "stream",
     "text": [
      "Saurabh UK\n",
      "Alex USA\n",
      "George India\n"
     ]
    }
   ],
   "source": [
    "for i in s:\n",
    "    print(i.name, i.country)"
   ]
  },
  {
   "cell_type": "code",
   "execution_count": null,
   "id": "868bc83d",
   "metadata": {},
   "outputs": [],
   "source": []
  },
  {
   "cell_type": "markdown",
   "id": "ab506d43",
   "metadata": {},
   "source": []
  }
 ],
 "metadata": {
  "kernelspec": {
   "display_name": "base",
   "language": "python",
   "name": "python3"
  },
  "language_info": {
   "codemirror_mode": {
    "name": "ipython",
    "version": 3
   },
   "file_extension": ".py",
   "mimetype": "text/x-python",
   "name": "python",
   "nbconvert_exporter": "python",
   "pygments_lexer": "ipython3",
   "version": "3.12.3"
  }
 },
 "nbformat": 4,
 "nbformat_minor": 5
}
