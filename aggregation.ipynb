{
 "cells": [
  {
   "cell_type": "markdown",
   "id": "cdbcda52",
   "metadata": {},
   "source": [
    "## Aggregation (has relationship with class or multiple class)\n",
    "\n",
    "one class owns other class\n",
    "\n",
    "If there is a multiple class, how can you make relationship with that."
   ]
  },
  {
   "cell_type": "code",
   "execution_count": 1,
   "id": "cde5b661",
   "metadata": {},
   "outputs": [],
   "source": [
    "class Customer:\n",
    "\n",
    "    def __init__(self, name, gender, address):\n",
    "        self.name = name\n",
    "        self.gender = gender\n",
    "        self.address = address\n",
    "\n",
    "    def print_info(self):\n",
    "        print(f\"Name: {self.name}, Gender: {self.gender},Address: {self.address.city}, {self.address.pin}, {self.address.state}\")\n",
    "\n",
    "class Address:\n",
    "\n",
    "    def __init__(self, city, pin, state):\n",
    "        self.city = city\n",
    "        self.pin = pin\n",
    "        self.state = state"
   ]
  },
  {
   "cell_type": "code",
   "execution_count": 2,
   "id": "73dabf5b",
   "metadata": {},
   "outputs": [],
   "source": [
    "adds = Address(\"Berkshire\", 453444, \"Reading\")\n",
    "cus = Customer(\"Saurabh\", \"Male\", adds)"
   ]
  },
  {
   "cell_type": "code",
   "execution_count": 10,
   "id": "e4114ab0",
   "metadata": {},
   "outputs": [
    {
     "name": "stdout",
     "output_type": "stream",
     "text": [
      "Name: Saurabh, Gender: Male,Address: Berkshire, 453444, Reading\n"
     ]
    }
   ],
   "source": [
    "cus.print_info()"
   ]
  },
  {
   "cell_type": "code",
   "execution_count": 13,
   "id": "08eac932",
   "metadata": {},
   "outputs": [],
   "source": [
    "class Customer:\n",
    "\n",
    "    def __init__(self, name, gender, address):\n",
    "        self.name = name\n",
    "        self.gender = gender\n",
    "        self.address = address\n",
    "\n",
    "    def print_info(self):\n",
    "        print(f\"Name: {self.name}, Gender: {self.gender},Address: {self.address.__city}, {self.address.pin}, {self.address.state}\")\n",
    "\n",
    "class Address:\n",
    "\n",
    "    def __init__(self, city, pin, state):\n",
    "        self.__city = city\n",
    "        self.pin = pin\n",
    "        self.state = state"
   ]
  },
  {
   "cell_type": "code",
   "execution_count": 14,
   "id": "49adb1b1",
   "metadata": {},
   "outputs": [],
   "source": [
    "adds = Address(\"Berkshire\", 453444, \"Reading\")\n",
    "cus = Customer(\"Saurabh\", \"Male\", adds)"
   ]
  },
  {
   "cell_type": "code",
   "execution_count": 15,
   "id": "39cc22aa",
   "metadata": {},
   "outputs": [
    {
     "ename": "AttributeError",
     "evalue": "'Address' object has no attribute '_Customer__city'",
     "output_type": "error",
     "traceback": [
      "\u001b[1;31m---------------------------------------------------------------------------\u001b[0m",
      "\u001b[1;31mAttributeError\u001b[0m                            Traceback (most recent call last)",
      "Cell \u001b[1;32mIn[15], line 1\u001b[0m\n\u001b[1;32m----> 1\u001b[0m cus\u001b[38;5;241m.\u001b[39mprint_info()\n",
      "Cell \u001b[1;32mIn[13], line 9\u001b[0m, in \u001b[0;36mCustomer.print_info\u001b[1;34m(self)\u001b[0m\n\u001b[0;32m      8\u001b[0m \u001b[38;5;28;01mdef\u001b[39;00m \u001b[38;5;21mprint_info\u001b[39m(\u001b[38;5;28mself\u001b[39m):\n\u001b[1;32m----> 9\u001b[0m     \u001b[38;5;28mprint\u001b[39m(\u001b[38;5;124mf\u001b[39m\u001b[38;5;124m\"\u001b[39m\u001b[38;5;124mName: \u001b[39m\u001b[38;5;132;01m{\u001b[39;00m\u001b[38;5;28mself\u001b[39m\u001b[38;5;241m.\u001b[39mname\u001b[38;5;132;01m}\u001b[39;00m\u001b[38;5;124m, Gender: \u001b[39m\u001b[38;5;132;01m{\u001b[39;00m\u001b[38;5;28mself\u001b[39m\u001b[38;5;241m.\u001b[39mgender\u001b[38;5;132;01m}\u001b[39;00m\u001b[38;5;124m,Address: \u001b[39m\u001b[38;5;132;01m{\u001b[39;00m\u001b[38;5;28mself\u001b[39m\u001b[38;5;241m.\u001b[39maddress\u001b[38;5;241m.\u001b[39m__city\u001b[38;5;132;01m}\u001b[39;00m\u001b[38;5;124m, \u001b[39m\u001b[38;5;132;01m{\u001b[39;00m\u001b[38;5;28mself\u001b[39m\u001b[38;5;241m.\u001b[39maddress\u001b[38;5;241m.\u001b[39mpin\u001b[38;5;132;01m}\u001b[39;00m\u001b[38;5;124m, \u001b[39m\u001b[38;5;132;01m{\u001b[39;00m\u001b[38;5;28mself\u001b[39m\u001b[38;5;241m.\u001b[39maddress\u001b[38;5;241m.\u001b[39mstate\u001b[38;5;132;01m}\u001b[39;00m\u001b[38;5;124m\"\u001b[39m)\n",
      "\u001b[1;31mAttributeError\u001b[0m: 'Address' object has no attribute '_Customer__city'"
     ]
    }
   ],
   "source": [
    "cus.print_info()"
   ]
  },
  {
   "cell_type": "markdown",
   "id": "3ea4731c",
   "metadata": {},
   "source": [
    "You can own any class but it doesn't mean you can own the private property of the class."
   ]
  },
  {
   "cell_type": "markdown",
   "id": "ad6155f1",
   "metadata": {},
   "source": [
    "But if I want to show my private property, i can use getter and setter method."
   ]
  },
  {
   "cell_type": "code",
   "execution_count": 16,
   "id": "d4f3ed5a",
   "metadata": {},
   "outputs": [],
   "source": [
    "class Customer:\n",
    "\n",
    "    def __init__(self, name, gender, address):\n",
    "        self.name = name\n",
    "        self.gender = gender\n",
    "        self.address = address\n",
    "\n",
    "    def print_info(self):\n",
    "        print(f\"Name: {self.name}, Gender: {self.gender},Address: {self.address.get_city()}, {self.address.pin}, {self.address.state}\")\n",
    "\n",
    "class Address:\n",
    "\n",
    "    def __init__(self, city, pin, state):\n",
    "        self.__city = city\n",
    "        self.pin = pin\n",
    "        self.state = state\n",
    "\n",
    "    def get_city(self):\n",
    "        return self.__city"
   ]
  },
  {
   "cell_type": "code",
   "execution_count": null,
   "id": "36581e8f",
   "metadata": {},
   "outputs": [
    {
     "name": "stdout",
     "output_type": "stream",
     "text": [
      "Name: Saurabh, Gender: Male,Address: Berkshire, 453444, Reading\n"
     ]
    }
   ],
   "source": [
    "# It can access the city currently\n",
    "adds = Address(\"Berkshire\", 453444, \"Reading\")\n",
    "cus = Customer(\"Saurabh\", \"Male\", adds)\n",
    "cus.print_info()"
   ]
  },
  {
   "cell_type": "code",
   "execution_count": null,
   "id": "5cc6b231",
   "metadata": {},
   "outputs": [],
   "source": []
  }
 ],
 "metadata": {
  "kernelspec": {
   "display_name": "base",
   "language": "python",
   "name": "python3"
  },
  "language_info": {
   "codemirror_mode": {
    "name": "ipython",
    "version": 3
   },
   "file_extension": ".py",
   "mimetype": "text/x-python",
   "name": "python",
   "nbconvert_exporter": "python",
   "pygments_lexer": "ipython3",
   "version": "3.12.3"
  }
 },
 "nbformat": 4,
 "nbformat_minor": 5
}
