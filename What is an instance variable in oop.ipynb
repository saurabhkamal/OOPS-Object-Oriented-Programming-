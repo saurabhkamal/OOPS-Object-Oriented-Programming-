{
 "cells": [
  {
   "cell_type": "markdown",
   "id": "c0bf0475",
   "metadata": {},
   "source": [
    "## What is instance variable in oop?\n",
    "\n",
    "instance variable is a very special variable and powerful variable that can store different data in the same variable for the different object."
   ]
  },
  {
   "cell_type": "code",
   "execution_count": 1,
   "id": "36d617cf",
   "metadata": {},
   "outputs": [],
   "source": [
    "class Person:\n",
    "\n",
    "    def __init__(self, name, country):\n",
    "        self.name = name\n",
    "        self.country = country"
   ]
  },
  {
   "cell_type": "code",
   "execution_count": 2,
   "id": "935e21fd",
   "metadata": {},
   "outputs": [],
   "source": [
    "p1 = Person(\"Saurabh\", \"UK\")\n",
    "p2 = Person(\"Alex\", \"USA\")\n",
    "p3 = Person(\"George\", \"India\")"
   ]
  },
  {
   "cell_type": "code",
   "execution_count": 4,
   "id": "550e20f7",
   "metadata": {},
   "outputs": [
    {
     "name": "stdout",
     "output_type": "stream",
     "text": [
      "1841174448896 1841174461472 1841174678416\n"
     ]
    }
   ],
   "source": [
    "print(id(p1),id(p2),id(p3))"
   ]
  },
  {
   "cell_type": "code",
   "execution_count": 5,
   "id": "3548c62e",
   "metadata": {},
   "outputs": [
    {
     "data": {
      "text/plain": [
       "'Saurabh'"
      ]
     },
     "execution_count": 5,
     "metadata": {},
     "output_type": "execute_result"
    }
   ],
   "source": [
    "p1.name"
   ]
  },
  {
   "cell_type": "code",
   "execution_count": 6,
   "id": "f9844e50",
   "metadata": {},
   "outputs": [
    {
     "data": {
      "text/plain": [
       "'Alex'"
      ]
     },
     "execution_count": 6,
     "metadata": {},
     "output_type": "execute_result"
    }
   ],
   "source": [
    "p2.name"
   ]
  },
  {
   "cell_type": "code",
   "execution_count": 7,
   "id": "e222e5d5",
   "metadata": {},
   "outputs": [
    {
     "data": {
      "text/plain": [
       "'George'"
      ]
     },
     "execution_count": 7,
     "metadata": {},
     "output_type": "execute_result"
    }
   ],
   "source": [
    "p3.name"
   ]
  },
  {
   "cell_type": "markdown",
   "id": "2d32407b",
   "metadata": {},
   "source": [
    "Here, you can see that I have written only one class but using this class for mutiples times with different example. This is called code reuability. I am using the same class again and again instead of writing from scratch."
   ]
  },
  {
   "cell_type": "markdown",
   "id": "bd04dce8",
   "metadata": {},
   "source": []
  },
  {
   "cell_type": "code",
   "execution_count": 1,
   "id": "2d6a067f",
   "metadata": {},
   "outputs": [
    {
     "name": "stdout",
     "output_type": "stream",
     "text": [
      "Buddy\n",
      "Lucy\n",
      "3\n",
      "5\n"
     ]
    }
   ],
   "source": [
    "class Dog:\n",
    "    def __init__(self, name, age):\n",
    "        self.name = name      # instance variable\n",
    "        self.age = age        # instance variable\n",
    "\n",
    "dog1 = Dog(\"Buddy\", 3)\n",
    "dog2 = Dog(\"Lucy\", 5)\n",
    "\n",
    "print(dog1.name)  # Output: Buddy\n",
    "print(dog2.name)  # Output: Lucy\n",
    "\n",
    "print(dog1.age)   # Output: 3\n",
    "print(dog2.age)   # Output: 5"
   ]
  },
  {
   "cell_type": "code",
   "execution_count": null,
   "id": "09ed97d6",
   "metadata": {},
   "outputs": [],
   "source": []
  }
 ],
 "metadata": {
  "kernelspec": {
   "display_name": "base",
   "language": "python",
   "name": "python3"
  },
  "language_info": {
   "codemirror_mode": {
    "name": "ipython",
    "version": 3
   },
   "file_extension": ".py",
   "mimetype": "text/x-python",
   "name": "python",
   "nbconvert_exporter": "python",
   "pygments_lexer": "ipython3",
   "version": "3.12.3"
  }
 },
 "nbformat": 4,
 "nbformat_minor": 5
}
