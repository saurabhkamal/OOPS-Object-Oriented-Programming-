{
 "cells": [
  {
   "cell_type": "markdown",
   "id": "aab86dcf",
   "metadata": {},
   "source": [
    "## Magic Methods / Dunder Methods (someone calls Magic or someone dunder)"
   ]
  },
  {
   "cell_type": "code",
   "execution_count": null,
   "id": "db2ad9a0",
   "metadata": {},
   "outputs": [],
   "source": [
    "# magic methods (double underscore), also called dunder method\n",
    "__methodname__()\n",
    "\n",
    "# In ATM program, constructor is a magic function\n",
    "\n"
   ]
  },
  {
   "cell_type": "code",
   "execution_count": 1,
   "id": "49e3977e",
   "metadata": {},
   "outputs": [],
   "source": [
    "class Temp:\n",
    "    def __init__(self):\n",
    "        print(\"Hello World\")"
   ]
  },
  {
   "cell_type": "code",
   "execution_count": 2,
   "id": "69ed9c2b",
   "metadata": {},
   "outputs": [
    {
     "name": "stdout",
     "output_type": "stream",
     "text": [
      "Hello World\n"
     ]
    }
   ],
   "source": [
    "obj = Temp()"
   ]
  },
  {
   "cell_type": "markdown",
   "id": "156a5cb2",
   "metadata": {},
   "source": [
    "constructor will be automaticall called, you don't need to call it separately"
   ]
  },
  {
   "cell_type": "markdown",
   "id": "1a1cd013",
   "metadata": {},
   "source": [
    "Magic methods or dunder methods are special methods whose names start and end with double underscores (__). These allows you to define how your objects behave with built-in operations, such as arithmetic, string representation, comparisons, object creation, and more.\n",
    "\n",
    "Common examples: __init__, __str__, __add__, __len__, etc."
   ]
  },
  {
   "cell_type": "code",
   "execution_count": 2,
   "id": "105a27d1",
   "metadata": {},
   "outputs": [],
   "source": [
    "# lets create a simple Point class representing a point in 2D space.\n",
    "class Point:\n",
    "    def __init__(self, x, y):\n",
    "        self.x = x\n",
    "        self.y = y \n",
    "\n",
    "    def __str__(self):\n",
    "        return f\"Point({self.x}, {self.y})\"\n",
    "    \n",
    "    def __add__(self, other):\n",
    "        return Point(self.x + other.x, self.y + other.y)\n",
    "    \n",
    "    def __eq__(self, other):\n",
    "        return self.x == other.x and self.y == other.y"
   ]
  },
  {
   "cell_type": "code",
   "execution_count": 3,
   "id": "3a796409",
   "metadata": {},
   "outputs": [],
   "source": [
    "# __init__(self, x, y)\n",
    "# The constructor. Called when you create a new object.\n",
    "\n",
    "# __str__(self)\n",
    "# Controls the string representation. Used when you print an object\n",
    "\n",
    "# __add__(self, other)\n",
    "# controls the behaviour of the + operator\n",
    "\n",
    "# __eq__(self, other)\n",
    "# controls the behavior of the == operator"
   ]
  },
  {
   "cell_type": "code",
   "execution_count": 5,
   "id": "dde7c67d",
   "metadata": {},
   "outputs": [
    {
     "name": "stdout",
     "output_type": "stream",
     "text": [
      "Point(1, 2)\n",
      "Point(3, 4)\n",
      "Point(4, 6)\n",
      "False\n",
      "True\n"
     ]
    }
   ],
   "source": [
    "p1 = Point(1, 2)\n",
    "p2 = Point(3, 4)\n",
    "\n",
    "print(p1)             # Prints: Point(1, 2)    (__str__)\n",
    "print(p2)             # Prints: Point(3, 4)\n",
    "\n",
    "p3 = p1 + p2          # Calls __add__\n",
    "print(p3)             # Prints: Point(4, 6)\n",
    "\n",
    "print(p1 == p2)       # False, calls __eq__\n",
    "print(p1 == Point(1, 2))  # True"
   ]
  },
  {
   "cell_type": "markdown",
   "id": "fc05eb53",
   "metadata": {},
   "source": [
    "Absolutely! **Magic Methods** (also called **dunder methods**—short for \"double underscores\") are special methods in Python whose names start and end with double underscores (`__`). These allow you to define how your objects behave with built-in operations, such as arithmetic, string representation, comparisons, object creation, and more.\n",
    "\n",
    "Common examples: `__init__`, `__str__`, `__add__`, `__len__`, etc.\n",
    "\n",
    "---\n",
    "\n",
    "## Example: Using Magic Methods in a Class\n",
    "\n",
    "Let's create a simple `Point` class representing a point in 2D space.\n",
    "\n",
    "```python\n",
    "class Point:\n",
    "    def __init__(self, x, y):\n",
    "        self.x = x\n",
    "        self.y = y\n",
    "\n",
    "    def __str__(self):\n",
    "        return f\"Point({self.x}, {self.y})\"\n",
    "\n",
    "    def __add__(self, other):\n",
    "        return Point(self.x + other.x, self.y + other.y)\n",
    "\n",
    "    def __eq__(self, other):\n",
    "        return self.x == other.x and self.y == other.y\n",
    "```\n",
    "\n",
    "### What each magic method does:\n",
    "- `__init__(self, x, y)`  \n",
    "  The **constructor**. Called when you create a new object.\n",
    "\n",
    "- `__str__(self)`  \n",
    "  Controls the **string representation**. Used when you print an object.\n",
    "\n",
    "- `__add__(self, other)`  \n",
    "  Controls the behavior of the `+` operator.\n",
    "\n",
    "- `__eq__(self, other)`  \n",
    "  Controls the behavior of the `==` operator.\n",
    "\n",
    "---\n",
    "\n",
    "### How it works in practice:\n",
    "\n",
    "```python\n",
    "p1 = Point(1, 2)\n",
    "p2 = Point(3, 4)\n",
    "\n",
    "print(p1)             # Prints: Point(1, 2)    (__str__)\n",
    "print(p2)             # Prints: Point(3, 4)\n",
    "\n",
    "p3 = p1 + p2          # Calls __add__\n",
    "print(p3)             # Prints: Point(4, 6)\n",
    "\n",
    "print(p1 == p2)       # False, calls __eq__\n",
    "print(p1 == Point(1, 2))  # True\n",
    "```\n",
    "\n",
    "---\n",
    "\n",
    "### Summary Table\n",
    "\n",
    "| Magic Method   | Operation it Controls    | Example                     |\n",
    "|----------------|-------------------------|-----------------------------|\n",
    "| `__init__`     | Initialization          | `obj = MyClass()`           |\n",
    "| `__str__`      | Printable String        | `print(obj)`                |\n",
    "| `__add__`      | Addition                | `obj1 + obj2`               |\n",
    "| `__eq__`       | Equality                | `obj1 == obj2`              |\n",
    "| `__len__`      | Length (`len(obj)`)     | `len(obj)`                  |\n",
    "\n",
    "---\n",
    "\n",
    "### **In short:**  \n",
    "Magic/dunder methods let your classes act like built-in Python types, making your objects more powerful and flexible!"
   ]
  },
  {
   "cell_type": "code",
   "execution_count": null,
   "metadata": {},
   "outputs": [],
   "source": []
  },
  {
   "cell_type": "markdown",
   "id": "c4a68bf6",
   "metadata": {},
   "source": []
  }
 ],
 "metadata": {
  "kernelspec": {
   "display_name": "base",
   "language": "python",
   "name": "python3"
  },
  "language_info": {
   "codemirror_mode": {
    "name": "ipython",
    "version": 3
   },
   "file_extension": ".py",
   "mimetype": "text/x-python",
   "name": "python",
   "nbconvert_exporter": "python",
   "pygments_lexer": "ipython3",
   "version": "3.12.3"
  }
 },
 "nbformat": 4,
 "nbformat_minor": 5
}
