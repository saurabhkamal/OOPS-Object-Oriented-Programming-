{
 "cells": [
  {
   "cell_type": "markdown",
   "id": "9b1f8fac",
   "metadata": {},
   "source": [
    "## Getter & Setter methods in OOP\n",
    "\n",
    "How will I let the developers to make any changes?\n",
    "\n",
    "Recommended way, if you want to change anything in the private property, you have to use the getter method and setter method"
   ]
  },
  {
   "cell_type": "code",
   "execution_count": null,
   "id": "19694381",
   "metadata": {},
   "outputs": [],
   "source": [
    "## Other private functions:\n",
    "\n",
    "class Atm:\n",
    "\n",
    "  #constructor(special function) - superpower\n",
    "  def __init__(self):\n",
    "    self.pin = \"\"\n",
    "    self.__balance = 0 #private variable\n",
    "    # self.menu()\n",
    "\n",
    "  # getter method\n",
    "  def get_balance(self):\n",
    "    return self.__balance\n",
    "\n",
    "  # setter method\n",
    "  def set_balance(self, new_balance):\n",
    "    if type(new_balance) == int:\n",
    "        self.__balance = new_balance\n",
    "    else:\n",
    "        print(\"dekh bhai mazaak na kar!\")\n",
    "\n",
    "  def __menu(self):\n",
    "    user_input = input(\n",
    "        \"\"\"\n",
    "        Hi how can i help you?\n",
    "\n",
    "        1. Press 1 to create pin\n",
    "        2. Press 2 to change pin\n",
    "        3. Press 3 to check balence\n",
    "        4. Press 4 to withdraw\n",
    "        5. Anything to exit\n",
    "        \"\"\"\n",
    "    )\n",
    "\n",
    "    if user_input == '1':\n",
    "      #create a pin\n",
    "      self.create_pin()\n",
    "\n",
    "    elif user_input == '2':\n",
    "      #change pin\n",
    "      self.change_pin()\n",
    "\n",
    "    elif user_input == '3':\n",
    "      #check balnce\n",
    "      self.check_balance()\n",
    "\n",
    "    elif user_input == '4':\n",
    "      #withdraw\n",
    "      self.withdraw()\n",
    "\n",
    "    else:\n",
    "      exit()\n",
    "\n",
    "\n",
    "  def create_pin(self):\n",
    "    user_pin = input(\"Enter your pin: \")\n",
    "    self.pin = user_pin\n",
    "\n",
    "    user_balance = int(input(\"Enter Balance: \"))\n",
    "    self.__balance = user_balance\n",
    "\n",
    "    print(\"Pin Created Successfully!\")\n",
    "    # self.menu()\n",
    "\n",
    "\n",
    "  def change_pin(self):\n",
    "    old_pin = input(\"Enter old pin: \")\n",
    "\n",
    "    if old_pin == self.pin:\n",
    "      #Let change the pin\n",
    "      new_pin = input(\"Enter new pin: \")\n",
    "      self.pin = new_pin\n",
    "      print(\"Pin changed Successfully!\")\n",
    "      # self.menu()\n",
    "\n",
    "    else:\n",
    "      print(\"Sorry you entered wrong pin.\")\n",
    "      # self.menu()\n",
    "\n",
    "\n",
    "\n",
    "\n",
    "  def check_balance(self):\n",
    "    user_pin = input(\"Enter your pin: \")\n",
    "    if user_pin == self.pin:\n",
    "      print(f\"Your balance is {self.__balance}\")\n",
    "    else:\n",
    "      print(\"Your pin is correct, please try again\")\n",
    "    # self.menu()\n",
    "\n",
    "\n",
    "\n",
    "  def withdraw(self):\n",
    "    user_pin = input(\"Enter your pin: \")\n",
    "    if user_pin == self.pin:\n",
    "      # Allow to withdraw\n",
    "      amount = int(input(\"Enter the amount: \"))\n",
    "      if amount <= self.__balance:\n",
    "        self.__balance = self.__balance - amount\n",
    "        print(f\"withdraw successfull and the current balance is {self.__balance}\")\n",
    "\n",
    "      else:\n",
    "        print(\"You have insufficient balance\")\n",
    "\n",
    "\n",
    "    else:\n",
    "      print(\"Your pin is wrong!\")\n",
    "    # self.menu()"
   ]
  },
  {
   "cell_type": "code",
   "execution_count": 2,
   "id": "96914163",
   "metadata": {},
   "outputs": [],
   "source": [
    "obj = Atm()"
   ]
  },
  {
   "cell_type": "code",
   "execution_count": 3,
   "id": "f39b6108",
   "metadata": {},
   "outputs": [
    {
     "data": {
      "text/plain": [
       "0"
      ]
     },
     "execution_count": 3,
     "metadata": {},
     "output_type": "execute_result"
    }
   ],
   "source": [
    "obj.get_balance()"
   ]
  },
  {
   "cell_type": "code",
   "execution_count": 4,
   "id": "41d39000",
   "metadata": {},
   "outputs": [],
   "source": [
    "obj.set_balance(500)"
   ]
  },
  {
   "cell_type": "code",
   "execution_count": 5,
   "id": "16522678",
   "metadata": {},
   "outputs": [
    {
     "data": {
      "text/plain": [
       "500"
      ]
     },
     "execution_count": 5,
     "metadata": {},
     "output_type": "execute_result"
    }
   ],
   "source": [
    "obj.get_balance()"
   ]
  },
  {
   "cell_type": "code",
   "execution_count": 6,
   "id": "f79b96f3",
   "metadata": {},
   "outputs": [
    {
     "name": "stdout",
     "output_type": "stream",
     "text": [
      "dekh bhai mazaak na kar!\n"
     ]
    }
   ],
   "source": [
    "obj.set_balance(\"Hello\")"
   ]
  },
  {
   "cell_type": "code",
   "execution_count": 7,
   "id": "91958160",
   "metadata": {},
   "outputs": [
    {
     "data": {
      "text/plain": [
       "500"
      ]
     },
     "execution_count": 7,
     "metadata": {},
     "output_type": "execute_result"
    }
   ],
   "source": [
    "obj.get_balance()"
   ]
  },
  {
   "cell_type": "code",
   "execution_count": null,
   "id": "4a9c6e07",
   "metadata": {},
   "outputs": [],
   "source": []
  }
 ],
 "metadata": {
  "kernelspec": {
   "display_name": "base",
   "language": "python",
   "name": "python3"
  },
  "language_info": {
   "codemirror_mode": {
    "name": "ipython",
    "version": 3
   },
   "file_extension": ".py",
   "mimetype": "text/x-python",
   "name": "python",
   "nbconvert_exporter": "python",
   "pygments_lexer": "ipython3",
   "version": "3.12.3"
  }
 },
 "nbformat": 4,
 "nbformat_minor": 5
}
